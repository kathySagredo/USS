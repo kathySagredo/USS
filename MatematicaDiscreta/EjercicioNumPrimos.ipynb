{
 "cells": [
  {
   "cell_type": "markdown",
   "id": "75443318",
   "metadata": {},
   "source": [
    "1. Escriba en Python un algoritmo para determinar los números primos de un número n, mediante divisiones sucesivas."
   ]
  },
  {
   "cell_type": "code",
   "execution_count": 17,
   "id": "e479e81b",
   "metadata": {},
   "outputs": [
    {
     "name": "stdout",
     "output_type": "stream",
     "text": [
      "2\n",
      "3\n",
      "5\n",
      "7\n"
     ]
    }
   ],
   "source": [
    "def primos(x):\n",
    "    for i in range(2,x):\n",
    "        d=0\n",
    "        for j in range(2,i):\n",
    "            if i % j == 0 :\n",
    "                d = 1\n",
    "                break \n",
    "        if d == 0:\n",
    "            print(i)\n",
    "\n",
    "\n",
    "primos(9)"
   ]
  }
 ],
 "metadata": {
  "kernelspec": {
   "display_name": "base",
   "language": "python",
   "name": "python3"
  },
  "language_info": {
   "codemirror_mode": {
    "name": "ipython",
    "version": 3
   },
   "file_extension": ".py",
   "mimetype": "text/x-python",
   "name": "python",
   "nbconvert_exporter": "python",
   "pygments_lexer": "ipython3",
   "version": "3.13.5"
  }
 },
 "nbformat": 4,
 "nbformat_minor": 5
}
