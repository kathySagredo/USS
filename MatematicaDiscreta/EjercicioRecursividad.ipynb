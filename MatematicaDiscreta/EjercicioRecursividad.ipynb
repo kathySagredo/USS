{
 "cells": [
  {
   "cell_type": "markdown",
   "id": "cb7e8411",
   "metadata": {},
   "source": [
    "1. Recursividad: a_n = a_(n-1) + 4"
   ]
  },
  {
   "cell_type": "code",
   "execution_count": 8,
   "id": "0e17a872",
   "metadata": {},
   "outputs": [
    {
     "data": {
      "text/plain": [
       "9"
      ]
     },
     "execution_count": 8,
     "metadata": {},
     "output_type": "execute_result"
    }
   ],
   "source": [
    "\"\"\" \n",
    "def recursividad1(n):\n",
    "    i = 2\n",
    "    an = 1\n",
    "    while i <= n:\n",
    "        an = an + 4\n",
    "        i = i + 1\n",
    "    print(an)\n",
    "\n",
    "recursividad1(1) \"\"\"\n",
    "\n",
    "def recursividad1(n):\n",
    "    if n == 1:\n",
    "        return 1\n",
    "    else:\n",
    "        return recursividad1(n-1) + 4\n",
    "\n",
    "recursividad1(3)"
   ]
  },
  {
   "cell_type": "markdown",
   "id": "0edc79d7",
   "metadata": {},
   "source": [
    "2. Recursividad: 2 * a_(n-1) + 1"
   ]
  },
  {
   "cell_type": "code",
   "execution_count": 9,
   "id": "7da38dba",
   "metadata": {},
   "outputs": [
    {
     "data": {
      "text/plain": [
       "23"
      ]
     },
     "execution_count": 9,
     "metadata": {},
     "output_type": "execute_result"
    }
   ],
   "source": [
    "def recursividad2(n):\n",
    "    if n == 1:\n",
    "        return 2\n",
    "    else:\n",
    "        return 2 * recursividad2(n-1) + 1 \n",
    "\n",
    "recursividad2(4)\n",
    "    "
   ]
  }
 ],
 "metadata": {
  "kernelspec": {
   "display_name": "base",
   "language": "python",
   "name": "python3"
  },
  "language_info": {
   "codemirror_mode": {
    "name": "ipython",
    "version": 3
   },
   "file_extension": ".py",
   "mimetype": "text/x-python",
   "name": "python",
   "nbconvert_exporter": "python",
   "pygments_lexer": "ipython3",
   "version": "3.13.5"
  }
 },
 "nbformat": 4,
 "nbformat_minor": 5
}
