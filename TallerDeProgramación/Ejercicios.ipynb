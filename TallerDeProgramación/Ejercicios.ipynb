{
 "cells": [
  {
   "cell_type": "markdown",
   "id": "3d15161b",
   "metadata": {},
   "source": [
    "1. Define una función llamada suma que reciba dos parámetros (números) y retorne su suma. Escribe el código de la función y un ejemplo de como utilizarla. "
   ]
  },
  {
   "cell_type": "code",
   "execution_count": null,
   "id": "c4629fd1",
   "metadata": {},
   "outputs": [
    {
     "name": "stdout",
     "output_type": "stream",
     "text": [
      "El resultado de la suma es:  5\n",
      "El resultaod de la suma es:  6\n"
     ]
    }
   ],
   "source": [
    "def suma(a,b): \n",
    "    return a+b\n",
    "\n",
    "# Ejemplos de uso\n",
    "print(\"El resultado de la suma es: \", suma(2,3))\n",
    "print(\"El resultado de la suma es: \", suma(4,2))"
   ]
  },
  {
   "cell_type": "markdown",
   "id": "4fc42f52",
   "metadata": {},
   "source": [
    "2. Define una función promedio que acepte un número variable de argumentos y calcule el promedio de los números proporcionados. Escribe el codigo y un ejemplo de uso."
   ]
  },
  {
   "cell_type": "code",
   "execution_count": null,
   "id": "0217b772",
   "metadata": {},
   "outputs": [
    {
     "name": "stdout",
     "output_type": "stream",
     "text": [
      "El promedio es:  3.5\n",
      "El promedio es:  5.142857142857143\n"
     ]
    }
   ],
   "source": [
    "import numpy as np\n",
    "\n",
    "def promedio(*numeros):\n",
    "    # Forma de resolver 1\n",
    "    # return np.average(numeros)\n",
    "    # Forma de resolver 2\n",
    "    suma = 0\n",
    "    for num in numeros:\n",
    "        suma = suma + num\n",
    "    \n",
    "    return suma / len(numeros)\n",
    "\n",
    "#Ejemplos de uso\n",
    "print(\"El promedio es: \", promedio(3,4,5,2))\n",
    "print(\"El promedio es: \", promedio(7,7,6,4,3,3,6))"
   ]
  },
  {
   "cell_type": "markdown",
   "id": "d9f97a99",
   "metadata": {},
   "source": [
    "3. Escribe una función descripcion_persona que acepte tres parametros: nombre, edad y país. Utilice argumentos posicionales y keyword en tu ejemplo. La función debe retornar una descripción de la persona. Escribe el código y un ejemplo de uso. "
   ]
  },
  {
   "cell_type": "code",
   "execution_count": 11,
   "id": "9d026778",
   "metadata": {},
   "outputs": [
    {
     "name": "stdout",
     "output_type": "stream",
     "text": [
      "{'nombre': 'Kathy', 'edad': 28, 'pais': 'Chile'}\n",
      "{'nombre': 'Karla', 'edad': 16, 'pais': 'Chile'}\n"
     ]
    }
   ],
   "source": [
    "def descripcion_persona(nombre, edad, pais):\n",
    "    descripcion = {\"nombre\": nombre, \"edad\": edad, \"pais\": pais}\n",
    "    return descripcion\n",
    "\n",
    "# Argumento posicional\n",
    "print(descripcion_persona(\"Kathy\", 28, \"Chile\"))\n",
    "\n",
    "# Argumento keyword\n",
    "print(descripcion_persona(nombre=\"Karla\", edad=16, pais=\"Chile\"))\n"
   ]
  },
  {
   "cell_type": "markdown",
   "id": "528a6944",
   "metadata": {},
   "source": [
    "4. Crea una función llamada Saludo que reciba un paramtro nombre y un parametro mensaje que tenga un valor por defecto de \"¡Hola!\". La función debe retornar el mensaje personalizado. Escribe el código y un ejemplo de uso. "
   ]
  },
  {
   "cell_type": "code",
   "execution_count": null,
   "id": "90f80f7e",
   "metadata": {},
   "outputs": [
    {
     "name": "stdout",
     "output_type": "stream",
     "text": [
      "¡Hola! Kathy\n",
      "¡Hola! Profesor\n"
     ]
    }
   ],
   "source": [
    "def saludo(nombre, mensaje=\"¡Hola!\"):\n",
    "    return f\"{mensaje} {nombre}\"\n",
    "\n",
    "#Ejemplos de uso\n",
    "print(saludo(\"Kathy\"))\n",
    "print(saludo(\"Profesor\"))\n"
   ]
  },
  {
   "cell_type": "markdown",
   "id": "533d1de6",
   "metadata": {},
   "source": [
    "5. Agrega un docString a la función suma que explique que hace la función, que parametros recibe y que retorna."
   ]
  },
  {
   "cell_type": "code",
   "execution_count": 20,
   "id": "3e84aa15",
   "metadata": {},
   "outputs": [
    {
     "name": "stdout",
     "output_type": "stream",
     "text": [
      "Help on function suma in module __main__:\n",
      "\n",
      "suma(a, b)\n",
      "    Explicación:\n",
      "    Nombre de la función: suma\n",
      "    Entrada: a y b como números enteros o decimales\n",
      "    Salida: retorna la suma de los parametros a y b\n",
      "\n",
      "    Ejemplo de uso:\n",
      "    Escribir la función dentro de un print e ingresar como argumentos dos números enteros o decimales.\n",
      "\n",
      "El resultado de la suma es:  5\n",
      "El resultado de la suma es:  6\n"
     ]
    }
   ],
   "source": [
    "def suma(a,b): \n",
    "    \"\"\" Explicación:\n",
    "    Nombre de la función: suma\n",
    "    Entrada: a y b como números enteros o decimales\n",
    "    Salida: retorna la suma de los parametros a y b\n",
    "\n",
    "    Ejemplo de uso:\n",
    "    Escribir la función dentro de un print e ingresar como argumentos dos números enteros o decimales.\n",
    "    \"\"\"\n",
    "    return a+b\n",
    "\n",
    "# Ejemplos de uso\n",
    "help(suma)\n",
    "print(\"El resultado de la suma es: \", suma(2,3))\n",
    "print(\"El resultado de la suma es: \", suma(4,2))"
   ]
  }
 ],
 "metadata": {
  "kernelspec": {
   "display_name": "base",
   "language": "python",
   "name": "python3"
  },
  "language_info": {
   "codemirror_mode": {
    "name": "ipython",
    "version": 3
   },
   "file_extension": ".py",
   "mimetype": "text/x-python",
   "name": "python",
   "nbconvert_exporter": "python",
   "pygments_lexer": "ipython3",
   "version": "3.13.5"
  }
 },
 "nbformat": 4,
 "nbformat_minor": 5
}
